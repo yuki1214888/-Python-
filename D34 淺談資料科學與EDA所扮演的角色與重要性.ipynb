{
 "cells": [
  {
   "cell_type": "markdown",
   "metadata": {},
   "source": [
    "[思考題] 哪一個問題不適合用資料科學解決\n",
    "\n",
    "今天課程中以一個案例，說明資料分析的流程與探索性分析，是否對於課程中一開始的問題，更有想法了？\n",
    "\n",
    "\n",
    "§ 挑選 Mr./Ms. Right\n",
    "\n",
    "§ 顧客下次會買哪些東西？\n",
    "\n",
    "§ 半導體的良率預測？\n"
   ]
  },
  {
   "cell_type": "markdown",
   "metadata": {},
   "source": [
    "Q1：哪一個問題不適合用資料科學解決？\n",
    "    挑選 Mr./Ms. Right"
   ]
  },
  {
   "cell_type": "markdown",
   "metadata": {},
   "source": [
    "Q2：以你的角度來分析，為什麼這樣的問題，較不適合用資料來解決\n",
    "    每個人對 Mr./Ms. Right的期望都不同，因為人的期望是主觀的，沒有一個標準可以明確清楚的判定每一個人是屬於哪一類的人"
   ]
  }
 ],
 "metadata": {
  "kernelspec": {
   "display_name": "Python 3",
   "language": "python",
   "name": "python3"
  },
  "language_info": {
   "codemirror_mode": {
    "name": "ipython",
    "version": 3
   },
   "file_extension": ".py",
   "mimetype": "text/x-python",
   "name": "python",
   "nbconvert_exporter": "python",
   "pygments_lexer": "ipython3",
   "version": "3.7.6"
  }
 },
 "nbformat": 4,
 "nbformat_minor": 4
}
