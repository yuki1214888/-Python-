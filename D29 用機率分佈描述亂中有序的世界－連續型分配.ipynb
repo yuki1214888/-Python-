{
 "cells": [
  {
   "cell_type": "markdown",
   "metadata": {},
   "source": [
    "Q1：計算標準常態分配，小於 1 的機率有多大？\n",
    "\n",
    "Q2：計算標準常態分配，大於1，小於 -1 的機率有多大？\n",
    "\n",
    "Q3：計算 X~N(2,4)，小於 3 的機率有多大？"
   ]
  },
  {
   "cell_type": "code",
   "execution_count": 1,
   "metadata": {},
   "outputs": [],
   "source": [
    "# library\n",
    "import matplotlib.pyplot as plt\n",
    "import numpy as np\n",
    "import pandas as pd\n",
    "from scipy import stats\n",
    "import math\n",
    "import statistics\n",
    "import seaborn as sns"
   ]
  },
  {
   "cell_type": "code",
   "execution_count": 10,
   "metadata": {},
   "outputs": [
    {
     "ename": "SyntaxError",
     "evalue": "invalid syntax (<ipython-input-10-55b6cdd3a511>, line 5)",
     "output_type": "error",
     "traceback": [
      "\u001b[1;36m  File \u001b[1;32m\"<ipython-input-10-55b6cdd3a511>\"\u001b[1;36m, line \u001b[1;32m5\u001b[0m\n\u001b[1;33m    print(\"小於1的機率：\"%4f, % (y[-1]))\u001b[0m\n\u001b[1;37m                     ^\u001b[0m\n\u001b[1;31mSyntaxError\u001b[0m\u001b[1;31m:\u001b[0m invalid syntax\n"
     ]
    }
   ],
   "source": [
    "mu=0\n",
    "sigma=1\n",
    "x = np.linspace(-3,1,400)\n",
    "y = stats.norm.cdf(x,0,1)\n",
    "print(\"小於1的機率：\"%4f, % (y[-1]))\n",
    "plt.plot(x,y)\n",
    "# 2.產生 pdf圖\n",
    "y = stats.norm.pdf(x,mu, sigma)\n",
    "\n",
    "cumsum_probs =  stats.norm.cdf(x,mu, sigma)\n",
    "k = stats.norm.ppf(cumsum_probs ,mu, sigma)\n",
    "X = stats.norm.rvs(mu, sigma,size=1000)\n",
    "stat_norm=stats.norm.stats(mu, sigma,moments='mvks')\n",
    "print(stat_norm)\n",
    "print(type(stat_norm))\n",
    "print(\"normal mean=\",float(stat_norm[0]))\n",
    "print(\"normal variance=\",float(stat_norm[1]))\n",
    "print(\"normal kurtosis=\",float(stat_norm[2]))\n",
    "print(\"normal skew=\",float(stat_norm[3]))"
   ]
  },
  {
   "cell_type": "code",
   "execution_count": null,
   "metadata": {},
   "outputs": [],
   "source": []
  }
 ],
 "metadata": {
  "kernelspec": {
   "display_name": "Python 3",
   "language": "python",
   "name": "python3"
  },
  "language_info": {
   "codemirror_mode": {
    "name": "ipython",
    "version": 3
   },
   "file_extension": ".py",
   "mimetype": "text/x-python",
   "name": "python",
   "nbconvert_exporter": "python",
   "pygments_lexer": "ipython3",
   "version": "3.7.6"
  }
 },
 "nbformat": 4,
 "nbformat_minor": 4
}
