{
 "cells": [
  {
   "cell_type": "markdown",
   "metadata": {},
   "source": [
    "Q1：計算標準常態分配，小於 1 的機率有多大？\n",
    "\n",
    "Q2：計算標準常態分配，大於1，小於 -1 的機率有多大？\n",
    "\n",
    "Q3：計算 X~N(2,4)，小於 3 的機率有多大？"
   ]
  },
  {
   "cell_type": "code",
   "execution_count": 1,
   "metadata": {},
   "outputs": [],
   "source": [
    "# library\n",
    "import matplotlib.pyplot as plt\n",
    "import numpy as np\n",
    "import pandas as pd\n",
    "from scipy import stats\n",
    "import math\n",
    "import statistics\n",
    "import seaborn as sns"
   ]
  },
  {
   "cell_type": "code",
   "execution_count": 34,
   "metadata": {},
   "outputs": [
    {
     "name": "stdout",
     "output_type": "stream",
     "text": [
      "小於1的機率： 0.8413447460685429\n"
     ]
    }
   ],
   "source": [
    "mu=0\n",
    "sigma=1\n",
    "\n",
    "cumsum_probs =  stats.norm.cdf(1,mu, sigma)\n",
    "\n",
    "print(\"小於1的機率：\",cumsum_probs)\n"
   ]
  },
  {
   "cell_type": "code",
   "execution_count": 35,
   "metadata": {},
   "outputs": [
    {
     "name": "stdout",
     "output_type": "stream",
     "text": [
      "小於1或大於1的機率= 0.31731050786291415\n"
     ]
    }
   ],
   "source": [
    "mu=0\n",
    "sigma=1\n",
    "cumsum_probs=  stats.norm.cdf(1,mu, sigma)\n",
    "cumsum_probs2=  stats.norm.cdf(-1,mu, sigma)\n",
    "print(\"小於1或大於1的機率：\",1-(cumsum_probs-cumsum_probs2))"
   ]
  },
  {
   "cell_type": "code",
   "execution_count": 37,
   "metadata": {},
   "outputs": [
    {
     "name": "stdout",
     "output_type": "stream",
     "text": [
      "小於 6 的機率： 0.9772498680518208\n"
     ]
    }
   ],
   "source": [
    "mu=2\n",
    "sigma=2 \n",
    "cumsum_probs= stats.norm.cdf(6,mu, sigma)\n",
    "print(\"小於6的機率：\",cumsum_probs)"
   ]
  },
  {
   "cell_type": "code",
   "execution_count": null,
   "metadata": {},
   "outputs": [],
   "source": []
  }
 ],
 "metadata": {
  "kernelspec": {
   "display_name": "Python 3",
   "language": "python",
   "name": "python3"
  },
  "language_info": {
   "codemirror_mode": {
    "name": "ipython",
    "version": 3
   },
   "file_extension": ".py",
   "mimetype": "text/x-python",
   "name": "python",
   "nbconvert_exporter": "python",
   "pygments_lexer": "ipython3",
   "version": "3.7.6"
  }
 },
 "nbformat": 4,
 "nbformat_minor": 4
}
