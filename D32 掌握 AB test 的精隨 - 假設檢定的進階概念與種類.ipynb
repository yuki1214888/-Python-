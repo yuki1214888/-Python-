{
 "cells": [
  {
   "cell_type": "markdown",
   "metadata": {},
   "source": [
    "在課堂中，檢定 H0：μ ≦ 0，H1：μ > 0，假設在 H0 為真下，分配為 N(0,1)，H1為真下，分配為N(2.1)。\n",
    "\n",
    "\n",
    "如果拒絕域改變時，α 和 β 會怎樣變化。\n",
    "\n",
    "1.   假設 x̄ > 2，拒絕 H0，α 會變大／變小？β 會變大／變小？\n",
    "\n",
    "2.   假設 x̄ > 0.2，拒絕 Ho，會變大／變小？β 會變大/變小？\n",
    "\n",
    "3.   α 和 β 有關聯性？"
   ]
  },
  {
   "cell_type": "markdown",
   "metadata": {},
   "source": [
    "Q1:\n",
    "    α變小；β 變大"
   ]
  },
  {
   "cell_type": "markdown",
   "metadata": {},
   "source": [
    "Q2:\n",
    "    α變大；β 變小"
   ]
  },
  {
   "cell_type": "markdown",
   "metadata": {},
   "source": [
    "Q3:\n",
    "    有負相關性"
   ]
  }
 ],
 "metadata": {
  "kernelspec": {
   "display_name": "Python 3",
   "language": "python",
   "name": "python3"
  },
  "language_info": {
   "codemirror_mode": {
    "name": "ipython",
    "version": 3
   },
   "file_extension": ".py",
   "mimetype": "text/x-python",
   "name": "python",
   "nbconvert_exporter": "python",
   "pygments_lexer": "ipython3",
   "version": "3.7.6"
  }
 },
 "nbformat": 4,
 "nbformat_minor": 4
}
