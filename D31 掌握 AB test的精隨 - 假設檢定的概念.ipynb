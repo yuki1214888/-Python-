{
 "cells": [
  {
   "cell_type": "markdown",
   "metadata": {},
   "source": [
    "定義出適當的 H0 與 H1\n",
    "\n",
    "\n",
    "\n",
    "Q1：吃減肥藥能在一個月內瘦超過十公斤，研究人員想推翻第四台廣告業者的說法，請試著寫出 H0 與 H1。\n",
    "\n",
    "\n",
    "\n",
    "Q2：一位速食店店長認為其品牌在市場之佔有率至多為 12%，於是該店長進行一個市場調查，一共訪問了 3000 位消費者，其中有311位表示喜歡該品牌，請試著寫出 H0 與 H1。"
   ]
  },
  {
   "cell_type": "markdown",
   "metadata": {},
   "source": [
    "Q1：吃減肥藥能在一個月內瘦超過十公斤，研究人員想推翻第四台廣告業者的說法，請試著寫出 H0 與 H1。\n",
    "\n",
    "H0 = 虛無假設，瘦>=十公斤\n",
    "\n",
    "H1 = 對立假設，瘦<十公斤"
   ]
  },
  {
   "cell_type": "markdown",
   "metadata": {},
   "source": [
    "Q2：一位速食店店長認為其品牌在市場之佔有率至多為 12%，於是該店長進行一個市場調查，一共訪問了 3000 位消費者，其中有311位表示喜歡該品牌，請試著寫出 H0 與 H1。\n",
    "\n",
    "H0 = <=12%\n",
    "\n",
    "H1 = >12%"
   ]
  },
  {
   "cell_type": "code",
   "execution_count": null,
   "metadata": {},
   "outputs": [],
   "source": []
  }
 ],
 "metadata": {
  "kernelspec": {
   "display_name": "Python 3",
   "language": "python",
   "name": "python3"
  },
  "language_info": {
   "codemirror_mode": {
    "name": "ipython",
    "version": 3
   },
   "file_extension": ".py",
   "mimetype": "text/x-python",
   "name": "python",
   "nbconvert_exporter": "python",
   "pygments_lexer": "ipython3",
   "version": "3.7.6"
  }
 },
 "nbformat": 4,
 "nbformat_minor": 4
}
