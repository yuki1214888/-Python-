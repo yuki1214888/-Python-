{
 "cells": [
  {
   "cell_type": "markdown",
   "metadata": {},
   "source": [
    "在鐵達尼資料集中，可以用今天範例中提到的三種辨識異常值的方法，以 training data 為資料集。\n",
    "\n",
    "\n",
    "\n",
    "Q1：觀察票價是否有異常值的現象？\n",
    "\n",
    "Q2：你覺得找出的異常需要做處理嗎？ (可以試著講出自己的想法)"
   ]
  },
  {
   "cell_type": "code",
   "execution_count": 1,
   "metadata": {},
   "outputs": [],
   "source": [
    "# library\n",
    "import matplotlib.pyplot as plt\n",
    "import numpy as np\n",
    "import pandas as pd\n",
    "import seaborn  as sns\n",
    "from scipy import stats\n",
    "import math\n",
    "import statistics\n",
    "#讓圖可以在 jupyter notebook顯示\n",
    "%matplotlib inline"
   ]
  },
  {
   "cell_type": "code",
   "execution_count": 2,
   "metadata": {},
   "outputs": [],
   "source": [
    "df_train = pd.read_csv(\"Titanic_train.csv\")"
   ]
  },
  {
   "cell_type": "code",
   "execution_count": 6,
   "metadata": {},
   "outputs": [
    {
     "name": "stdout",
     "output_type": "stream",
     "text": [
      "32.2042079685746\n",
      "49.693428597180905\n"
     ]
    },
    {
     "data": {
      "text/plain": [
       "<seaborn.axisgrid.FacetGrid at 0x1231db87608>"
      ]
     },
     "execution_count": 6,
     "metadata": {},
     "output_type": "execute_result"
    },
    {
     "data": {
      "image/png": "[encoded data removed]",
      "text/plain": [
       "<Figure size 432x216 with 2 Axes>"
      ]
     },
     "metadata": {
      "needs_background": "light"
     },
     "output_type": "display_data"
    }
   ],
   "source": [
    "print(df_train['Fare'].mean()) #age平均\n",
    "print(df_train['Fare'].std()) #age標準差\n",
    "# 連續型用分布圖行來看\n",
    "g = sns.FacetGrid(df_train, col='Survived')\n",
    "g.map(sns.distplot, 'Fare', kde=False)"
   ]
  },
  {
   "cell_type": "code",
   "execution_count": 7,
   "metadata": {},
   "outputs": [
    {
     "name": "stdout",
     "output_type": "stream",
     "text": [
      "count    891.000000\n",
      "mean      32.204208\n",
      "std       49.693429\n",
      "min        0.000000\n",
      "25%        7.910400\n",
      "50%       14.454200\n",
      "75%       31.000000\n",
      "max      512.329200\n",
      "Name: Fare, dtype: float64\n"
     ]
    }
   ],
   "source": [
    "print(df_train['Fare'].describe())"
   ]
  },
  {
   "cell_type": "markdown",
   "metadata": {},
   "source": [
    "最大票價 512"
   ]
  },
  {
   "cell_type": "code",
   "execution_count": 8,
   "metadata": {},
   "outputs": [
    {
     "name": "stdout",
     "output_type": "stream",
     "text": [
      "[ 27  88 118 258 299 311 341 377 380 438 527 557 679 689 700 716 730 737\n",
      " 742 779]\n",
      "用第二種方法的找出的 outlier 有哪些?\n",
      "27     263.0000\n",
      "88     263.0000\n",
      "118    247.5208\n",
      "258    512.3292\n",
      "299    247.5208\n",
      "311    262.3750\n",
      "341    263.0000\n",
      "377    211.5000\n",
      "380    227.5250\n",
      "438    263.0000\n",
      "527    221.7792\n",
      "557    227.5250\n",
      "679    512.3292\n",
      "689    211.3375\n",
      "700    227.5250\n",
      "716    227.5250\n",
      "730    211.3375\n",
      "737    512.3292\n",
      "742    262.3750\n",
      "779    211.3375\n",
      "Name: Fare, dtype: float64\n"
     ]
    }
   ],
   "source": [
    "import numpy as np\n",
    "\n",
    "# 創建一個函數，計算在這個資料中， ys:資料，times : 幾倍標準差，找出在這樣條件下的異常值。\n",
    "def outliers_z_score(ys,times):\n",
    "    mean_y = np.mean(ys)\n",
    "    stdev_y = np.std(ys)\n",
    "    z_scores = [(y - mean_y) / stdev_y for y in ys]\n",
    "    return np.where(np.abs(z_scores) > times)\n",
    "\n",
    "out_index=outliers_z_score(df_train['Fare'],3)\n",
    "print(out_index[0])\n",
    "print(\"用第二種方法的找出的 outlier 有哪些?\")\n",
    "print(df_train.loc[out_index[0],'Fare'])\n",
    "#  所以用這個方法，找出的 outlier 就是少數族群，年齡較大的，一位是 80 和 74。"
   ]
  },
  {
   "cell_type": "code",
   "execution_count": 10,
   "metadata": {},
   "outputs": [
    {
     "name": "stdout",
     "output_type": "stream",
     "text": [
      "(array([  1,  27,  31,  34,  52,  61,  62,  72,  88, 102, 118, 120, 124,\n",
      "       139, 151, 159, 180, 195, 201, 215, 218, 224, 230, 245, 256, 257,\n",
      "       258, 262, 268, 269, 275, 290, 291, 297, 299, 305, 306, 307, 310,\n",
      "       311, 318, 319, 324, 325, 332, 334, 336, 337, 341, 366, 369, 373,\n",
      "       375, 377, 380, 385, 390, 393, 412, 435, 438, 445, 453, 484, 486,\n",
      "       496, 498, 504, 505, 520, 527, 537, 540, 544, 550, 557, 558, 581,\n",
      "       585, 587, 591, 609, 627, 641, 645, 655, 659, 660, 665, 679, 681,\n",
      "       689, 698, 700, 708, 716, 730, 737, 741, 742, 745, 759, 763, 765,\n",
      "       779, 789, 792, 802, 820, 829, 835, 846, 849, 856, 863, 879],\n",
      "      dtype=int64),)\n",
      "用第三種方法的找出的 outlier 有哪些?(1.5 倍IQR)\n",
      "1       71.2833\n",
      "27     263.0000\n",
      "31     146.5208\n",
      "34      82.1708\n",
      "52      76.7292\n",
      "         ...   \n",
      "846     69.5500\n",
      "849     89.1042\n",
      "856    164.8667\n",
      "863     69.5500\n",
      "879     83.1583\n",
      "Name: Fare, Length: 116, dtype: float64\n"
     ]
    }
   ],
   "source": [
    "import numpy as np\n",
    "# 透過一個函數來判斷是否為異常值\n",
    "def outliers_iqr(ys,times):\n",
    "   \n",
    "\n",
    "    quartile_1, quartile_3 = np.nanpercentile(ys, [25, 75])\n",
    "    iqr = quartile_3 - quartile_1\n",
    "    lower_bound = quartile_1 - (iqr * times)\n",
    "    upper_bound = quartile_3 + (iqr * times)\n",
    "    return np.where((ys > upper_bound) | (ys < lower_bound))\n",
    "\n",
    "out_index2=outliers_iqr(df_train['Fare'],1.5)\n",
    "print(out_index2)\n",
    "print(\"用第三種方法的找出的 outlier 有哪些?(1.5 倍IQR)\")\n",
    "print(df_train.loc[out_index2[0],'Fare'])"
   ]
  },
  {
   "cell_type": "code",
   "execution_count": 11,
   "metadata": {},
   "outputs": [
    {
     "name": "stdout",
     "output_type": "stream",
     "text": [
      "(array([ 27,  31,  34,  61,  62,  88, 102, 118, 124, 139, 195, 215, 224,\n",
      "       230, 245, 256, 257, 258, 262, 268, 269, 275, 290, 291, 297, 299,\n",
      "       305, 306, 307, 310, 311, 318, 319, 325, 332, 334, 337, 341, 373,\n",
      "       375, 377, 380, 390, 393, 412, 435, 438, 445, 453, 484, 486, 496,\n",
      "       498, 504, 505, 520, 527, 537, 544, 550, 557, 558, 581, 585, 587,\n",
      "       591, 609, 627, 659, 660, 679, 689, 698, 700, 708, 716, 730, 737,\n",
      "       741, 742, 759, 763, 765, 779, 789, 802, 820, 829, 835, 849, 856,\n",
      "       879], dtype=int64),)\n",
      "用第三種方法的找出的 outlier 有哪些?(2 倍IQR)\n",
      "27     263.0000\n",
      "31     146.5208\n",
      "34      82.1708\n",
      "61      80.0000\n",
      "62      83.4750\n",
      "         ...   \n",
      "829     80.0000\n",
      "835     83.1583\n",
      "849     89.1042\n",
      "856    164.8667\n",
      "879     83.1583\n",
      "Name: Fare, Length: 92, dtype: float64\n"
     ]
    }
   ],
   "source": [
    "out_index3=outliers_iqr(df_train['Fare'],2)\n",
    "print(out_index3)\n",
    "print(\"用第三種方法的找出的 outlier 有哪些?(2 倍IQR)\")\n",
    "print(df_train.loc[out_index3[0],'Fare'])"
   ]
  },
  {
   "cell_type": "code",
   "execution_count": 12,
   "metadata": {},
   "outputs": [
    {
     "data": {
      "image/png": "[encoded data removed]",
      "text/plain": [
       "<Figure size 432x288 with 1 Axes>"
      ]
     },
     "metadata": {
      "needs_background": "light"
     },
     "output_type": "display_data"
    }
   ],
   "source": [
    "plt.boxplot(df_train['Fare'][~np.isnan(df_train['Fare'])],whis=2)    #作圖\n",
    "plt.title('Box Plot')\n",
    "plt.show()"
   ]
  },
  {
   "cell_type": "markdown",
   "metadata": {},
   "source": [
    "Q2\n",
    " 需先確認票價是否在正常販售金額之內，票價會因不同等級房間而有不同價位"
   ]
  },
  {
   "cell_type": "code",
   "execution_count": null,
   "metadata": {},
   "outputs": [],
   "source": []
  }
 ],
 "metadata": {
  "kernelspec": {
   "display_name": "Python 3",
   "language": "python",
   "name": "python3"
  },
  "language_info": {
   "codemirror_mode": {
    "name": "ipython",
    "version": 3
   },
   "file_extension": ".py",
   "mimetype": "text/x-python",
   "name": "python",
   "nbconvert_exporter": "python",
   "pygments_lexer": "ipython3",
   "version": "3.7.6"
  }
 },
 "nbformat": 4,
 "nbformat_minor": 4
}
