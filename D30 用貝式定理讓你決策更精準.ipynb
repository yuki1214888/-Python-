{
 "cells": [
  {
   "cell_type": "markdown",
   "metadata": {},
   "source": [
    "Q1：所以根據這個情況條件下。你會預測照片中的長髮是男性或女性？ (直覺回答)\n",
    "\n",
    "\n",
    "\n",
    "Q2：以下圖資料，計算當你看到長髮時，是女生的機率？\n",
    "\n",
    "\n",
    "\n",
    "Q3：你的決策因為男生女生比例不同 (先驗分配不同)，決策有沒有改變？"
   ]
  },
  {
   "cell_type": "code",
   "execution_count": 1,
   "metadata": {},
   "outputs": [
    {
     "ename": "SyntaxError",
     "evalue": "invalid character in identifier (<ipython-input-1-45c604c8b838>, line 1)",
     "output_type": "error",
     "traceback": [
      "\u001b[1;36m  File \u001b[1;32m\"<ipython-input-1-45c604c8b838>\"\u001b[1;36m, line \u001b[1;32m1\u001b[0m\n\u001b[1;33m    電影院裡通常都是成對情侶一起去看，假設有一半是女的，有一半是男的。\u001b[0m\n\u001b[1;37m                                    ^\u001b[0m\n\u001b[1;31mSyntaxError\u001b[0m\u001b[1;31m:\u001b[0m invalid character in identifier\n"
     ]
    }
   ],
   "source": [
    "電影院裡通常都是成對情侶一起去看，假設有一半是女的，有一半是男的。\n",
    "假設電影院中有100 個人裡面，有 50 名男性和 50 名女性。\n",
    "在這 50 名女性裡，有一半的人有長髮（25 人），另一半有短髮（25 人）；\n",
    "在 50 名男性當中，45 個人有短髮，5個人有長髮。"
   ]
  },
  {
   "cell_type": "code",
   "execution_count": 2,
   "metadata": {},
   "outputs": [
    {
     "name": "stdout",
     "output_type": "stream",
     "text": [
      "P(A|B) = 35.71\n"
     ]
    }
   ],
   "source": [
    "#寫法2:\n",
    "# calculate P(A|B) given P(A), P(B|A), P(B|not A)\n",
    "def bayes_theorem(p_a, p_b_given_a, p_b_given_not_a):\n",
    "        # calculate P(not A)\n",
    "        not_a = 1 - p_a\n",
    "        # calculate P(B)\n",
    "        p_b = p_b_given_a * p_a + p_b_given_not_a * not_a\n",
    "        # calculate P(A|B)\n",
    "        p_a_given_b = (p_b_given_a * p_a) / p_b\n",
    "        return p_a_given_b\n",
    " \n",
    "# P(A): P(女生)\n",
    "# P(not A): P(男生)\n",
    "p_a = 0.1\n",
    "# P(B|A): P(長髮|女生)\n",
    "p_b_given_a = 0.5\n",
    "# P(B|not A): P(長髮|男生)\n",
    "p_b_given_not_a = 0.1\n",
    "# calculate P(A|B): P(女生|長髮)\n",
    "result = bayes_theorem(p_a, p_b_given_a, p_b_given_not_a)\n",
    "# summarize\n",
    "# P(女生|長髮)\n",
    "print('P(A|B) = {0}'.format(round(result * 100,2)))"
   ]
  },
  {
   "cell_type": "code",
   "execution_count": null,
   "metadata": {},
   "outputs": [],
   "source": []
  }
 ],
 "metadata": {
  "kernelspec": {
   "display_name": "Python 3",
   "language": "python",
   "name": "python3"
  },
  "language_info": {
   "codemirror_mode": {
    "name": "ipython",
    "version": 3
   },
   "file_extension": ".py",
   "mimetype": "text/x-python",
   "name": "python",
   "nbconvert_exporter": "python",
   "pygments_lexer": "ipython3",
   "version": "3.7.6"
  }
 },
 "nbformat": 4,
 "nbformat_minor": 4
}
