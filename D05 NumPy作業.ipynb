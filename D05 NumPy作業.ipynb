{
 "cells": [
  {
   "cell_type": "markdown",
   "metadata": {},
   "source": [
    "# D05 NumPy 統計函式 Universal Functions (ufunc)"
   ]
  },
  {
   "cell_type": "code",
   "execution_count": 1,
   "metadata": {},
   "outputs": [],
   "source": [
    "import numpy as np"
   ]
  },
  {
   "cell_type": "markdown",
   "metadata": {},
   "source": [
    "english_score = np.array([55,89,76,65,48,70])\n",
    "\n",
    "math_score = np.array([60,85,60,68,np.nan,60])\n",
    "\n",
    "chinese_score = np.array([65,90,82,72,66,77])\n",
    "\n",
    "\n",
    "\n",
    "上 3 列共六位同學的英文、數學、國文成績，第一個元素代表第一位同學，舉例第一位同學英文 55 分、數學 60 分、國文 65 分，今天第五位同學因某原因沒來考試，導致數學成績缺值，運用上列數據回答下列問題。"
   ]
  },
  {
   "cell_type": "markdown",
   "metadata": {},
   "source": [
    "1.請計算各科成績平均、最大值、最小值、標準差，其中數學缺一筆資料可忽略？"
   ]
  },
  {
   "cell_type": "code",
   "execution_count": 17,
   "metadata": {},
   "outputs": [
    {
     "name": "stdout",
     "output_type": "stream",
     "text": [
      "陣列中無 nan，忽略 nan 後的平均值為： 67.16666666666667 最大值為： 89 最小值為： 48 標準差為： 13.433995020924426\n",
      "陣列中有 nan，忽略 nan 後的平均值為： 66.6 最大值為： 85.0 最小值為： 60.0 標準差為： 9.707728879609279\n",
      "陣列中無 nan，忽略 nan 後的平均值為： 75.33333333333333 最大值為： 90 最小值為： 65 標準差為： 8.825468196582484\n"
     ]
    }
   ],
   "source": [
    "english_score = np.array([55,89,76,65,48,70])\n",
    "\n",
    "math_score = np.array([60,85,60,68,np.nan,60])\n",
    "\n",
    "chinese_score = np.array([65,90,82,72,66,77])\n",
    "\n",
    "if not np.isnan(np.sum(english_score)):\n",
    "    print(\"陣列中無 nan，忽略 nan 後的平均值為：\", np.mean(english_score),\"最大值為：\",np.amax(english_score),\"最小值為：\",np.amin(english_score),\"標準差為：\",np.std(english_score))\n",
    "else:\n",
    "    print(\"陣列中有 nan，忽略 nan 後的平均值為：\", np.nanmean(english_score),\"最大值為：\",np.nanmax(english_score),\"最小值為：\",np.nanmin(english_score),\"標準差為：\",np.nanstd(english_score))\n",
    "if not np.isnan(np.sum(math_score)):\n",
    "    print(\"陣列中無 nan，忽略 nan 後的平均值為：\", np.mean(math_score),\"最大值為：\",np.amax(math_score),\"最小值為：\",np.amin(math_score),\"標準差為：\",np.std(math_score))\n",
    "else:\n",
    "    print(\"陣列中有 nan，忽略 nan 後的平均值為：\", np.nanmean(math_score),\"最大值為：\",np.nanmax(math_score),\"最小值為：\",np.nanmin(math_score),\"標準差為：\",np.nanstd(math_score))\n",
    "if not np.isnan(np.sum(chinese_score)):\n",
    "    print(\"陣列中無 nan，忽略 nan 後的平均值為：\", np.mean(chinese_score),\"最大值為：\",np.amax(chinese_score),\"最小值為：\",np.amin(chinese_score),\"標準差為：\",np.std(chinese_score))\n",
    "else:\n",
    "    print(\"陣列中有 nan，忽略 nan 後的平均值為：\", np.nanmean(chinese_score),\"最大值為：\",np.nanmax(chinese_score),\"最小值為：\",np.nanmin(chinese_score),\"標準差為：\",np.nanstd(chinese_score))"
   ]
  },
  {
   "cell_type": "markdown",
   "metadata": {},
   "source": [
    "2.第五位同學補考數學後成績為 55，請計算補考後數學成績平均、最大值、最小值、標準差？"
   ]
  },
  {
   "cell_type": "code",
   "execution_count": 18,
   "metadata": {},
   "outputs": [
    {
     "name": "stdout",
     "output_type": "stream",
     "text": [
      "陣列中無 nan，忽略 nan 後的平均值為： 64.66666666666667 最大值為： 85 最小值為： 55 標準差為： 9.860132971832694\n"
     ]
    }
   ],
   "source": [
    "math_score = np.array([60,85,60,68,55,60])\n",
    "\n",
    "if not np.isnan(np.sum(math_score)):\n",
    "    print(\"陣列中無 nan，忽略 nan 後的平均值為：\", np.mean(math_score),\"最大值為：\",np.amax(math_score),\"最小值為：\",np.amin(math_score),\"標準差為：\",np.std(math_score))\n",
    "else:\n",
    "    print(\"陣列中有 nan，忽略 nan 後的平均值為：\", np.nanmean(math_score),\"最大值為：\",np.nanmax(math_score),\"最小值為：\",np.nanmin(math_score),\"標準差為：\",np.nanstd(math_score))\n"
   ]
  },
  {
   "cell_type": "markdown",
   "metadata": {},
   "source": [
    "3.用補考後資料找出與國文成績相關係數最高的學科？"
   ]
  },
  {
   "cell_type": "code",
   "execution_count": 39,
   "metadata": {},
   "outputs": [
    {
     "data": {
      "text/plain": [
       "array([[1.        , 0.7855563 , 0.97792828],\n",
       "       [0.7855563 , 1.        , 0.74056803],\n",
       "       [0.97792828, 0.74056803, 1.        ]])"
      ]
     },
     "execution_count": 39,
     "metadata": {},
     "output_type": "execute_result"
    }
   ],
   "source": [
    "X=np.vstack((english_score, math_score, chinese_score))\n",
    "np.corrcoef(X, y=None, rowvar=True)"
   ]
  },
  {
   "cell_type": "code",
   "execution_count": null,
   "metadata": {},
   "outputs": [],
   "source": []
  }
 ],
 "metadata": {
  "kernelspec": {
   "display_name": "Python 3",
   "language": "python",
   "name": "python3"
  },
  "language_info": {
   "codemirror_mode": {
    "name": "ipython",
    "version": 3
   },
   "file_extension": ".py",
   "mimetype": "text/x-python",
   "name": "python",
   "nbconvert_exporter": "python",
   "pygments_lexer": "ipython3",
   "version": "3.7.6"
  }
 },
 "nbformat": 4,
 "nbformat_minor": 4
}
